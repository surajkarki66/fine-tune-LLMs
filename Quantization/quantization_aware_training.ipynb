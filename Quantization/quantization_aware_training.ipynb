{
  "cells": [
    {
      "cell_type": "markdown",
      "metadata": {
        "id": "As77XeI3xXW8"
      },
      "source": [
        "# Quantization Aware Training\n",
        "In this notebook, we will implementing one of the modes of quantization called Quantization Aware Training using PyTorch."
      ]
    },
    {
      "cell_type": "markdown",
      "metadata": {
        "id": "3EWZusX5xXXA"
      },
      "source": [
        "## Import"
      ]
    },
    {
      "cell_type": "code",
      "execution_count": 1,
      "metadata": {
        "id": "x_vJkJzGxXXB"
      },
      "outputs": [],
      "source": [
        "import torch\n",
        "import torchvision.datasets as datasets\n",
        "import torchvision.transforms as transforms\n",
        "import torch.nn as nn\n",
        "import matplotlib.pyplot as plt\n",
        "import os\n",
        "\n",
        "from tqdm import tqdm\n",
        "from pathlib import Path"
      ]
    },
    {
      "cell_type": "markdown",
      "source": [
        "## Load the FashionMNIST Dataset"
      ],
      "metadata": {
        "id": "sMqw_pzaxqXo"
      }
    },
    {
      "cell_type": "code",
      "execution_count": 2,
      "metadata": {
        "id": "TBZ1OlbXxXXD"
      },
      "outputs": [],
      "source": [
        "# Make torch deterministic\n",
        "_ = torch.manual_seed(0)"
      ]
    },
    {
      "cell_type": "code",
      "source": [
        "transform = transforms.Compose([transforms.ToTensor(), transforms.Normalize((0.1307,), (0.3081,))])\n",
        "\n",
        "# Load the FashionMNIST dataset\n",
        "fmnist_trainset = datasets.FashionMNIST(root='./data', train=True, download=True, transform=transform)\n",
        "\n",
        "# Create a dataloader for the training\n",
        "train_loader = torch.utils.data.DataLoader(fmnist_trainset, batch_size=16, shuffle=True)\n",
        "\n",
        "# Load the FashionMNIST test set\n",
        "fmnist_testset = datasets.MNIST(root='./data', train=False, download=True, transform=transform)\n",
        "\n",
        "test_loader = torch.utils.data.DataLoader(fmnist_trainset, batch_size=16, shuffle=True)\n",
        "\n",
        "# Define the device\n",
        "device = torch.device(\"cuda:0\" if torch.cuda.is_available() else \"cpu\")"
      ],
      "metadata": {
        "id": "Yvd_YnZB1jEM"
      },
      "execution_count": 3,
      "outputs": []
    },
    {
      "cell_type": "markdown",
      "source": [
        "## Define the Model"
      ],
      "metadata": {
        "id": "Afjbo-o44e6r"
      }
    },
    {
      "cell_type": "code",
      "source": [
        "class FashionNet(nn.Module):\n",
        "    def __init__(self, hidden_size_1=128, hidden_size_2=256):\n",
        "        super(FashionNet,self).__init__()\n",
        "        self.quant = torch.quantization.QuantStub()\n",
        "        self.linear1 = nn.Linear(28*28, hidden_size_1)\n",
        "        self.linear2 = nn.Linear(hidden_size_1, hidden_size_2)\n",
        "        self.linear3 = nn.Linear(hidden_size_2, 10)\n",
        "        self.relu = nn.ReLU()\n",
        "        self.dequant = torch.quantization.DeQuantStub()\n",
        "\n",
        "    def forward(self, img):\n",
        "        x = img.view(-1, 28*28)\n",
        "        x = self.quant(x)\n",
        "        x = self.relu(self.linear1(x))\n",
        "        x = self.relu(self.linear2(x))\n",
        "        x = self.linear3(x)\n",
        "        x = self.dequant(x)\n",
        "        return x\n",
        "\n",
        "model = FashionNet().to(device)\n",
        "print(model)"
      ],
      "metadata": {
        "id": "_uG4ajRe4bRS",
        "colab": {
          "base_uri": "https://localhost:8080/"
        },
        "outputId": "4c95623f-3315-4e73-91a4-cdb8f5ecf9a1"
      },
      "execution_count": 4,
      "outputs": [
        {
          "output_type": "stream",
          "name": "stdout",
          "text": [
            "FashionNet(\n",
            "  (quant): QuantStub()\n",
            "  (linear1): Linear(in_features=784, out_features=128, bias=True)\n",
            "  (linear2): Linear(in_features=128, out_features=256, bias=True)\n",
            "  (linear3): Linear(in_features=256, out_features=10, bias=True)\n",
            "  (relu): ReLU()\n",
            "  (dequant): DeQuantStub()\n",
            ")\n"
          ]
        }
      ]
    },
    {
      "cell_type": "markdown",
      "source": [
        "## Insert min-max observers in the model"
      ],
      "metadata": {
        "id": "9TZy3QOKKV4r"
      }
    },
    {
      "cell_type": "code",
      "source": [
        "model.qconfig = torch.ao.quantization.default_qconfig\n",
        "model.train()\n",
        "model_quantized = torch.ao.quantization.prepare_qat(model) # Insert observers\n",
        "model_quantized"
      ],
      "metadata": {
        "colab": {
          "base_uri": "https://localhost:8080/"
        },
        "id": "9DCXRDnXLgBD",
        "outputId": "af36176a-a795-411b-fb07-972345f73900"
      },
      "execution_count": 5,
      "outputs": [
        {
          "output_type": "execute_result",
          "data": {
            "text/plain": [
              "FashionNet(\n",
              "  (quant): QuantStub(\n",
              "    (activation_post_process): MinMaxObserver(min_val=inf, max_val=-inf)\n",
              "  )\n",
              "  (linear1): Linear(\n",
              "    in_features=784, out_features=128, bias=True\n",
              "    (weight_fake_quant): MinMaxObserver(min_val=inf, max_val=-inf)\n",
              "    (activation_post_process): MinMaxObserver(min_val=inf, max_val=-inf)\n",
              "  )\n",
              "  (linear2): Linear(\n",
              "    in_features=128, out_features=256, bias=True\n",
              "    (weight_fake_quant): MinMaxObserver(min_val=inf, max_val=-inf)\n",
              "    (activation_post_process): MinMaxObserver(min_val=inf, max_val=-inf)\n",
              "  )\n",
              "  (linear3): Linear(\n",
              "    in_features=256, out_features=10, bias=True\n",
              "    (weight_fake_quant): MinMaxObserver(min_val=inf, max_val=-inf)\n",
              "    (activation_post_process): MinMaxObserver(min_val=inf, max_val=-inf)\n",
              "  )\n",
              "  (relu): ReLU()\n",
              "  (dequant): DeQuantStub()\n",
              ")"
            ]
          },
          "metadata": {},
          "execution_count": 5
        }
      ]
    },
    {
      "cell_type": "markdown",
      "source": [
        "## Train the Model"
      ],
      "metadata": {
        "id": "LVYz2TQS5CKP"
      }
    },
    {
      "cell_type": "code",
      "source": [
        "def train(train_loader, model, epochs=5, total_iterations_limit=None):\n",
        "    cross_el = nn.CrossEntropyLoss()\n",
        "    optimizer = torch.optim.Adam(model.parameters(), lr=0.001)\n",
        "\n",
        "    total_iterations = 0\n",
        "\n",
        "    for epoch in range(epochs):\n",
        "        model.train()\n",
        "\n",
        "        loss_sum = 0\n",
        "        num_iterations = 0\n",
        "\n",
        "        data_iterator = tqdm(train_loader, desc=f'Epoch {epoch+1}')\n",
        "        if total_iterations_limit is not None:\n",
        "            data_iterator.total = total_iterations_limit\n",
        "\n",
        "        for data in data_iterator:\n",
        "            num_iterations += 1\n",
        "            total_iterations += 1\n",
        "            x, y = data\n",
        "            x = x.to(device)\n",
        "            y = y.to(device)\n",
        "            optimizer.zero_grad()\n",
        "            output = model(x.view(-1, 28*28))\n",
        "            loss = cross_el(output, y)\n",
        "            loss_sum += loss.item()\n",
        "            avg_loss = loss_sum / num_iterations\n",
        "            data_iterator.set_postfix(loss=avg_loss)\n",
        "            loss.backward()\n",
        "            optimizer.step()\n",
        "\n",
        "            if total_iterations_limit is not None and total_iterations >= total_iterations_limit:\n",
        "                return"
      ],
      "metadata": {
        "id": "Po54D74T5AIE"
      },
      "execution_count": 6,
      "outputs": []
    },
    {
      "cell_type": "code",
      "source": [
        "train(train_loader, model_quantized, epochs=10)"
      ],
      "metadata": {
        "colab": {
          "base_uri": "https://localhost:8080/"
        },
        "id": "R4l2Qnh3Ph3V",
        "outputId": "d9d65735-79ad-4f05-e6dc-47bbf2455684"
      },
      "execution_count": 7,
      "outputs": [
        {
          "output_type": "stream",
          "name": "stderr",
          "text": [
            "Epoch 1: 100%|██████████| 3750/3750 [00:54<00:00, 68.92it/s, loss=0.455]\n",
            "Epoch 2: 100%|██████████| 3750/3750 [00:49<00:00, 75.44it/s, loss=0.354]\n",
            "Epoch 3: 100%|██████████| 3750/3750 [00:50<00:00, 74.56it/s, loss=0.322]\n",
            "Epoch 4: 100%|██████████| 3750/3750 [00:49<00:00, 75.42it/s, loss=0.296]\n",
            "Epoch 5: 100%|██████████| 3750/3750 [00:50<00:00, 74.96it/s, loss=0.281]\n",
            "Epoch 6: 100%|██████████| 3750/3750 [00:50<00:00, 73.80it/s, loss=0.268]\n",
            "Epoch 7: 100%|██████████| 3750/3750 [00:50<00:00, 73.92it/s, loss=0.259]\n",
            "Epoch 8: 100%|██████████| 3750/3750 [00:49<00:00, 75.41it/s, loss=0.247]\n",
            "Epoch 9: 100%|██████████| 3750/3750 [00:48<00:00, 76.65it/s, loss=0.238]\n",
            "Epoch 10: 100%|██████████| 3750/3750 [00:49<00:00, 75.03it/s, loss=0.231]\n"
          ]
        }
      ]
    },
    {
      "cell_type": "markdown",
      "source": [
        "## Testing"
      ],
      "metadata": {
        "id": "kwa9abFu6Lv5"
      }
    },
    {
      "cell_type": "code",
      "source": [
        "def test(model: nn.Module, total_iterations: int = None):\n",
        "    correct = 0\n",
        "    total = 0\n",
        "\n",
        "    iterations = 0\n",
        "\n",
        "    model.eval()\n",
        "\n",
        "    with torch.no_grad():\n",
        "        for data in tqdm(test_loader, desc='Testing'):\n",
        "            x, y = data\n",
        "            x = x.to(device)\n",
        "            y = y.to(device)\n",
        "            output = model(x.view(-1, 784))\n",
        "            for idx, i in enumerate(output):\n",
        "                if torch.argmax(i) == y[idx]:\n",
        "                    correct +=1\n",
        "                total +=1\n",
        "            iterations += 1\n",
        "            if total_iterations is not None and iterations >= total_iterations:\n",
        "                break\n",
        "    print(f'Accuracy: {round(correct/total, 3)}')"
      ],
      "metadata": {
        "id": "ZLxNcHAS6FqB"
      },
      "execution_count": 8,
      "outputs": []
    },
    {
      "cell_type": "markdown",
      "source": [
        "## Check the collected statistics during training"
      ],
      "metadata": {
        "id": "oM_-ZBDvMn3M"
      }
    },
    {
      "cell_type": "code",
      "source": [
        "print(f'Check statistics of the various layers')\n",
        "model_quantized"
      ],
      "metadata": {
        "colab": {
          "base_uri": "https://localhost:8080/"
        },
        "id": "RYmHXO9LMq08",
        "outputId": "3ee0e68d-67dc-4a8f-ecc7-b94301a92496"
      },
      "execution_count": 9,
      "outputs": [
        {
          "output_type": "stream",
          "name": "stdout",
          "text": [
            "Check statistics of the various layers\n"
          ]
        },
        {
          "output_type": "execute_result",
          "data": {
            "text/plain": [
              "FashionNet(\n",
              "  (quant): QuantStub(\n",
              "    (activation_post_process): MinMaxObserver(min_val=-0.4242129623889923, max_val=2.821486711502075)\n",
              "  )\n",
              "  (linear1): Linear(\n",
              "    in_features=784, out_features=128, bias=True\n",
              "    (weight_fake_quant): MinMaxObserver(min_val=-2.0463104248046875, max_val=1.1904397010803223)\n",
              "    (activation_post_process): MinMaxObserver(min_val=-130.43992614746094, max_val=71.39286804199219)\n",
              "  )\n",
              "  (linear2): Linear(\n",
              "    in_features=128, out_features=256, bias=True\n",
              "    (weight_fake_quant): MinMaxObserver(min_val=-0.7236308455467224, max_val=0.6895429491996765)\n",
              "    (activation_post_process): MinMaxObserver(min_val=-95.31771850585938, max_val=73.64185333251953)\n",
              "  )\n",
              "  (linear3): Linear(\n",
              "    in_features=256, out_features=10, bias=True\n",
              "    (weight_fake_quant): MinMaxObserver(min_val=-1.617387056350708, max_val=0.4518842399120331)\n",
              "    (activation_post_process): MinMaxObserver(min_val=-418.06884765625, max_val=68.2452392578125)\n",
              "  )\n",
              "  (relu): ReLU()\n",
              "  (dequant): DeQuantStub()\n",
              ")"
            ]
          },
          "metadata": {},
          "execution_count": 9
        }
      ]
    },
    {
      "cell_type": "markdown",
      "source": [
        "##Quantize the model using the statistics collected"
      ],
      "metadata": {
        "id": "RvXazv9-M2pb"
      }
    },
    {
      "cell_type": "code",
      "source": [
        "model_quantized.eval()\n",
        "model_quantized = torch.ao.quantization.convert(model_quantized)"
      ],
      "metadata": {
        "id": "rR5-Y_Q_M4Up"
      },
      "execution_count": 10,
      "outputs": []
    },
    {
      "cell_type": "code",
      "source": [
        "print(f'Check statistics of the various layers')\n",
        "model_quantized"
      ],
      "metadata": {
        "colab": {
          "base_uri": "https://localhost:8080/"
        },
        "id": "97eV4h-qNKOt",
        "outputId": "4276791a-1881-4a8b-b4d7-0997823a4b5d"
      },
      "execution_count": 11,
      "outputs": [
        {
          "output_type": "stream",
          "name": "stdout",
          "text": [
            "Check statistics of the various layers\n"
          ]
        },
        {
          "output_type": "execute_result",
          "data": {
            "text/plain": [
              "FashionNet(\n",
              "  (quant): Quantize(scale=tensor([0.0256]), zero_point=tensor([17]), dtype=torch.quint8)\n",
              "  (linear1): QuantizedLinear(in_features=784, out_features=128, scale=1.5892345905303955, zero_point=82, qscheme=torch.per_tensor_affine)\n",
              "  (linear2): QuantizedLinear(in_features=128, out_features=256, scale=1.330390214920044, zero_point=72, qscheme=torch.per_tensor_affine)\n",
              "  (linear3): QuantizedLinear(in_features=256, out_features=10, scale=3.82924485206604, zero_point=109, qscheme=torch.per_tensor_affine)\n",
              "  (relu): ReLU()\n",
              "  (dequant): DeQuantize()\n",
              ")"
            ]
          },
          "metadata": {},
          "execution_count": 11
        }
      ]
    },
    {
      "cell_type": "markdown",
      "source": [
        "##Print weights and size of the model after quantization"
      ],
      "metadata": {
        "id": "QAkSN8nE6mad"
      }
    },
    {
      "cell_type": "code",
      "source": [
        "# Print the weights matrix of the model after quantization\n",
        "print('Weights after quantization')\n",
        "print(torch.int_repr(model_quantized.linear1.weight()))"
      ],
      "metadata": {
        "colab": {
          "base_uri": "https://localhost:8080/"
        },
        "id": "tAfEguGT6kw3",
        "outputId": "3dd4ecac-a108-4076-baff-2251e7def3ba"
      },
      "execution_count": 12,
      "outputs": [
        {
          "output_type": "stream",
          "name": "stdout",
          "text": [
            "Weights after quantization\n",
            "tensor([[  6,   7,   4,  ...,   7,   5,   6],\n",
            "        [  3,   4,   4,  ...,   9, -11,   2],\n",
            "        [  5,   7,   4,  ...,   5,   7,   7],\n",
            "        ...,\n",
            "        [ -1,  -4,   1,  ...,  -7,  -3,   0],\n",
            "        [  5,   5,   6,  ...,  -5,  -7,   3],\n",
            "        [ 10,   8,   7,  ...,  11,   9,   7]], dtype=torch.int8)\n"
          ]
        }
      ]
    },
    {
      "cell_type": "code",
      "source": [
        "def print_size_of_model(model):\n",
        "    torch.save(model.state_dict(), \"temp_delme.p\")\n",
        "    print('Size (KB):', os.path.getsize(\"temp_delme.p\")/1e3)\n",
        "    os.remove('temp_delme.p')"
      ],
      "metadata": {
        "id": "XdsROxaQ6tmg"
      },
      "execution_count": 13,
      "outputs": []
    },
    {
      "cell_type": "code",
      "source": [
        "print('Size of the model after quantization')\n",
        "print_size_of_model(model_quantized)"
      ],
      "metadata": {
        "colab": {
          "base_uri": "https://localhost:8080/"
        },
        "id": "LGNyU3SxOq2m",
        "outputId": "a30c5b57-976e-48ee-96ac-d0b8c44f22a5"
      },
      "execution_count": 14,
      "outputs": [
        {
          "output_type": "stream",
          "name": "stdout",
          "text": [
            "Size of the model after quantization\n",
            "Size (KB): 142.498\n"
          ]
        }
      ]
    },
    {
      "cell_type": "code",
      "source": [
        "print(f'Accuracy of the model after quantization: ')\n",
        "test(model_quantized)"
      ],
      "metadata": {
        "colab": {
          "base_uri": "https://localhost:8080/"
        },
        "id": "QeGlyGgsO4Jv",
        "outputId": "293c43d0-f2d0-40d0-b69b-a44941841579"
      },
      "execution_count": 15,
      "outputs": [
        {
          "output_type": "stream",
          "name": "stdout",
          "text": [
            "Accuracy of the model after quantization: \n"
          ]
        },
        {
          "output_type": "stream",
          "name": "stderr",
          "text": [
            "Testing: 100%|██████████| 3750/3750 [00:20<00:00, 181.68it/s]"
          ]
        },
        {
          "output_type": "stream",
          "name": "stdout",
          "text": [
            "Accuracy: 0.862\n"
          ]
        },
        {
          "output_type": "stream",
          "name": "stderr",
          "text": [
            "\n"
          ]
        }
      ]
    }
  ],
  "metadata": {
    "kernelspec": {
      "display_name": "Python 3",
      "name": "python3"
    },
    "language_info": {
      "codemirror_mode": {
        "name": "ipython",
        "version": 3
      },
      "file_extension": ".py",
      "mimetype": "text/x-python",
      "name": "python",
      "nbconvert_exporter": "python",
      "pygments_lexer": "ipython3",
      "version": "3.11.5"
    },
    "colab": {
      "provenance": []
    }
  },
  "nbformat": 4,
  "nbformat_minor": 0
}